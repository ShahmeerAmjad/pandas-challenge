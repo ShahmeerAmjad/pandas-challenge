{
 "cells": [
  {
   "cell_type": "markdown",
   "metadata": {},
   "source": [
    "### Note\n",
    "* Instructions have been included for each segment. You do not have to follow them exactly, but they are included to help you think through the steps."
   ]
  },
  {
   "cell_type": "code",
   "execution_count": 1,
   "metadata": {},
   "outputs": [
    {
     "data": {
      "text/html": [
       "<div>\n",
       "<style scoped>\n",
       "    .dataframe tbody tr th:only-of-type {\n",
       "        vertical-align: middle;\n",
       "    }\n",
       "\n",
       "    .dataframe tbody tr th {\n",
       "        vertical-align: top;\n",
       "    }\n",
       "\n",
       "    .dataframe thead th {\n",
       "        text-align: right;\n",
       "    }\n",
       "</style>\n",
       "<table border=\"1\" class=\"dataframe\">\n",
       "  <thead>\n",
       "    <tr style=\"text-align: right;\">\n",
       "      <th></th>\n",
       "      <th>Purchase ID</th>\n",
       "      <th>SN</th>\n",
       "      <th>Age</th>\n",
       "      <th>Gender</th>\n",
       "      <th>Item ID</th>\n",
       "      <th>Item Name</th>\n",
       "      <th>Price</th>\n",
       "    </tr>\n",
       "  </thead>\n",
       "  <tbody>\n",
       "    <tr>\n",
       "      <td>0</td>\n",
       "      <td>0</td>\n",
       "      <td>Lisim78</td>\n",
       "      <td>20</td>\n",
       "      <td>Male</td>\n",
       "      <td>108</td>\n",
       "      <td>Extraction, Quickblade Of Trembling Hands</td>\n",
       "      <td>3.53</td>\n",
       "    </tr>\n",
       "    <tr>\n",
       "      <td>1</td>\n",
       "      <td>1</td>\n",
       "      <td>Lisovynya38</td>\n",
       "      <td>40</td>\n",
       "      <td>Male</td>\n",
       "      <td>143</td>\n",
       "      <td>Frenzied Scimitar</td>\n",
       "      <td>1.56</td>\n",
       "    </tr>\n",
       "    <tr>\n",
       "      <td>2</td>\n",
       "      <td>2</td>\n",
       "      <td>Ithergue48</td>\n",
       "      <td>24</td>\n",
       "      <td>Male</td>\n",
       "      <td>92</td>\n",
       "      <td>Final Critic</td>\n",
       "      <td>4.88</td>\n",
       "    </tr>\n",
       "    <tr>\n",
       "      <td>3</td>\n",
       "      <td>3</td>\n",
       "      <td>Chamassasya86</td>\n",
       "      <td>24</td>\n",
       "      <td>Male</td>\n",
       "      <td>100</td>\n",
       "      <td>Blindscythe</td>\n",
       "      <td>3.27</td>\n",
       "    </tr>\n",
       "    <tr>\n",
       "      <td>4</td>\n",
       "      <td>4</td>\n",
       "      <td>Iskosia90</td>\n",
       "      <td>23</td>\n",
       "      <td>Male</td>\n",
       "      <td>131</td>\n",
       "      <td>Fury</td>\n",
       "      <td>1.44</td>\n",
       "    </tr>\n",
       "  </tbody>\n",
       "</table>\n",
       "</div>"
      ],
      "text/plain": [
       "   Purchase ID             SN  Age Gender  Item ID  \\\n",
       "0            0        Lisim78   20   Male      108   \n",
       "1            1    Lisovynya38   40   Male      143   \n",
       "2            2     Ithergue48   24   Male       92   \n",
       "3            3  Chamassasya86   24   Male      100   \n",
       "4            4      Iskosia90   23   Male      131   \n",
       "\n",
       "                                   Item Name  Price  \n",
       "0  Extraction, Quickblade Of Trembling Hands   3.53  \n",
       "1                          Frenzied Scimitar   1.56  \n",
       "2                               Final Critic   4.88  \n",
       "3                                Blindscythe   3.27  \n",
       "4                                       Fury   1.44  "
      ]
     },
     "execution_count": 1,
     "metadata": {},
     "output_type": "execute_result"
    }
   ],
   "source": [
    "# Dependencies and Setup\n",
    "import pandas as pd\n",
    "import numpy as np\n",
    "\n",
    "# File to Load (Remember to Change These)\n",
    "file_to_load = \"Resources/purchase_data.csv\"\n",
    "\n",
    "# Read Purchasing File and store into Pandas data frame\n",
    "purchase_data = pd.read_csv(file_to_load)\n",
    "purchase_data.head()"
   ]
  },
  {
   "cell_type": "markdown",
   "metadata": {},
   "source": [
    "## Player Count"
   ]
  },
  {
   "cell_type": "markdown",
   "metadata": {},
   "source": [
    "* Display the total number of players\n"
   ]
  },
  {
   "cell_type": "code",
   "execution_count": 2,
   "metadata": {},
   "outputs": [
    {
     "data": {
      "text/plain": [
       "576"
      ]
     },
     "execution_count": 2,
     "metadata": {},
     "output_type": "execute_result"
    }
   ],
   "source": [
    "purchase_data.head()\n",
    "\n",
    "#total observations in dataset=780!\n",
    "#dataCount=purchase_data.count()\n",
    "#dataCount\n",
    "\n",
    "\n",
    "#Counting Unique Players in the dataset\n",
    "playerCount=purchase_data['SN'].nunique()\n",
    "playerCount\n",
    "\n"
   ]
  },
  {
   "cell_type": "markdown",
   "metadata": {},
   "source": [
    "## Purchasing Analysis (Total)"
   ]
  },
  {
   "cell_type": "markdown",
   "metadata": {},
   "source": [
    "* Run basic calculations to obtain number of unique items, average price, etc.\n",
    "\n",
    "\n",
    "* Create a summary data frame to hold the results\n",
    "\n",
    "\n",
    "* Optional: give the displayed data cleaner formatting\n",
    "\n",
    "\n",
    "* Display the summary data frame\n"
   ]
  },
  {
   "cell_type": "code",
   "execution_count": 3,
   "metadata": {
    "scrolled": true
   },
   "outputs": [
    {
     "data": {
      "text/html": [
       "<style  type=\"text/css\" >\n",
       "</style><table id=\"T_2c3cd40c_f5dd_11e9_9fb7_8c859084aa4b\" ><thead>    <tr>        <th class=\"blank level0\" ></th>        <th class=\"col_heading level0 col0\" >Number of Unique Items</th>        <th class=\"col_heading level0 col1\" >Average Price</th>        <th class=\"col_heading level0 col2\" >Number of Purchases</th>        <th class=\"col_heading level0 col3\" >Total Revenue</th>    </tr></thead><tbody>\n",
       "                <tr>\n",
       "                        <th id=\"T_2c3cd40c_f5dd_11e9_9fb7_8c859084aa4blevel0_row0\" class=\"row_heading level0 row0\" >0</th>\n",
       "                        <td id=\"T_2c3cd40c_f5dd_11e9_9fb7_8c859084aa4brow0_col0\" class=\"data row0 col0\" >183</td>\n",
       "                        <td id=\"T_2c3cd40c_f5dd_11e9_9fb7_8c859084aa4brow0_col1\" class=\"data row0 col1\" >$3.05</td>\n",
       "                        <td id=\"T_2c3cd40c_f5dd_11e9_9fb7_8c859084aa4brow0_col2\" class=\"data row0 col2\" >780</td>\n",
       "                        <td id=\"T_2c3cd40c_f5dd_11e9_9fb7_8c859084aa4brow0_col3\" class=\"data row0 col3\" >$2,379.77</td>\n",
       "            </tr>\n",
       "    </tbody></table>"
      ],
      "text/plain": [
       "<pandas.io.formats.style.Styler at 0x10e09d048>"
      ]
     },
     "execution_count": 3,
     "metadata": {},
     "output_type": "execute_result"
    }
   ],
   "source": [
    "purchase_data.head()\n",
    "#Count of Unique Items sold in Dataset\n",
    "uniqueitems=purchase_data['Item ID'].nunique()\n",
    "uniqueitems\n",
    "##Average Price\n",
    "avgPrice=purchase_data['Price'].mean()\n",
    "avgPrice\n",
    "\n",
    "##Number of purchases\n",
    "purchaseNum=purchase_data['Purchase ID'].count()\n",
    "purchaseNum\n",
    "\n",
    "#Total Revenue\n",
    "totalRevenue=purchase_data['Price'].sum()\n",
    "totalRevenue\n",
    "\n",
    "#Now create a summary table and round up Average price to 2decimal pt\n",
    "purchase_summary_table =pd.DataFrame({\"Number of Unique Items\":[uniqueitems],\n",
    "                                  \"Average Price\":[avgPrice],\n",
    "                                  \"Number of Purchases\":[purchaseNum],\n",
    "                                  \"Total Revenue\":[totalRevenue]})\n",
    "\n",
    "#purchase_summary_table =pd.DataFrame{\"Number of Unique Items\":uniqueitems,\n",
    "    #                              \"Average Price\":avgPrice,\n",
    "    #                              \"Number of Purchases\":purchaseNum,\n",
    "    #                              \"Total Revenue\":totalRevenue}\n",
    "\n",
    "##Add formating for avg price and total revenue\n",
    "purchase_summary_table.style.format({\"Average Price\":\"${:,.2f}\",\n",
    "                                    \"Total Revenue\": \"${:,.2f}\"})"
   ]
  },
  {
   "cell_type": "markdown",
   "metadata": {},
   "source": [
    "## Gender Demographics"
   ]
  },
  {
   "cell_type": "markdown",
   "metadata": {},
   "source": [
    "* Percentage and Count of Male Players\n",
    "\n",
    "\n",
    "* Percentage and Count of Female Players\n",
    "\n",
    "\n",
    "* Percentage and Count of Other / Non-Disclosed\n",
    "\n",
    "\n"
   ]
  },
  {
   "cell_type": "code",
   "execution_count": 4,
   "metadata": {},
   "outputs": [
    {
     "data": {
      "text/html": [
       "<style  type=\"text/css\" >\n",
       "</style><table id=\"T_2c7dfc9a_f5dd_11e9_91d4_8c859084aa4b\" ><thead>    <tr>        <th class=\"blank level0\" ></th>        <th class=\"col_heading level0 col0\" >Total Count</th>        <th class=\"col_heading level0 col1\" >Percentage of Players</th>    </tr></thead><tbody>\n",
       "                <tr>\n",
       "                        <th id=\"T_2c7dfc9a_f5dd_11e9_91d4_8c859084aa4blevel0_row0\" class=\"row_heading level0 row0\" >Male</th>\n",
       "                        <td id=\"T_2c7dfc9a_f5dd_11e9_91d4_8c859084aa4brow0_col0\" class=\"data row0 col0\" >652</td>\n",
       "                        <td id=\"T_2c7dfc9a_f5dd_11e9_91d4_8c859084aa4brow0_col1\" class=\"data row0 col1\" >83.59</td>\n",
       "            </tr>\n",
       "            <tr>\n",
       "                        <th id=\"T_2c7dfc9a_f5dd_11e9_91d4_8c859084aa4blevel0_row1\" class=\"row_heading level0 row1\" >Female</th>\n",
       "                        <td id=\"T_2c7dfc9a_f5dd_11e9_91d4_8c859084aa4brow1_col0\" class=\"data row1 col0\" >113</td>\n",
       "                        <td id=\"T_2c7dfc9a_f5dd_11e9_91d4_8c859084aa4brow1_col1\" class=\"data row1 col1\" >14.49</td>\n",
       "            </tr>\n",
       "            <tr>\n",
       "                        <th id=\"T_2c7dfc9a_f5dd_11e9_91d4_8c859084aa4blevel0_row2\" class=\"row_heading level0 row2\" >Other / Non-Disclosed</th>\n",
       "                        <td id=\"T_2c7dfc9a_f5dd_11e9_91d4_8c859084aa4brow2_col0\" class=\"data row2 col0\" >15</td>\n",
       "                        <td id=\"T_2c7dfc9a_f5dd_11e9_91d4_8c859084aa4brow2_col1\" class=\"data row2 col1\" >1.92</td>\n",
       "            </tr>\n",
       "    </tbody></table>"
      ],
      "text/plain": [
       "<pandas.io.formats.style.Styler at 0x11e76b278>"
      ]
     },
     "execution_count": 4,
     "metadata": {},
     "output_type": "execute_result"
    }
   ],
   "source": [
    "#group data by gender\n",
    "gender_data=purchase_data.groupby(\"Gender\")\n",
    "\n",
    "gender_counts = purchase_data[\"Gender\"].value_counts()\n",
    "gender_counts\n",
    "#in percentage\n",
    "gender_pct=purchase_data['Gender'].value_counts(normalize=True) * 100\n",
    "\n",
    "\n",
    "\n",
    "#gender summary table\n",
    "gender_summary_table=pd.DataFrame({\"Total Count\":gender_counts,\n",
    "                                  \"Percentage of Players\":gender_pct})\n",
    "#Add formatting for Percentage of players\n",
    "\n",
    "gender_summary_table=gender_summary_table.style.format({\"Percentage of Players\":\"{:.2f}\"})\n",
    "\n",
    "\n",
    "gender_summary_table\n",
    "\n"
   ]
  },
  {
   "cell_type": "markdown",
   "metadata": {},
   "source": [
    "\n",
    "## Purchasing Analysis (Gender)"
   ]
  },
  {
   "cell_type": "markdown",
   "metadata": {},
   "source": [
    "* Run basic calculations to obtain purchase count, avg. purchase price, avg. purchase total per person etc. by gender\n",
    "\n",
    "\n",
    "\n",
    "\n",
    "* Create a summary data frame to hold the results\n",
    "\n",
    "\n",
    "* Optional: give the displayed data cleaner formatting\n",
    "\n",
    "\n",
    "* Display the summary data frame"
   ]
  },
  {
   "cell_type": "code",
   "execution_count": 5,
   "metadata": {},
   "outputs": [
    {
     "data": {
      "text/html": [
       "<style  type=\"text/css\" >\n",
       "</style><table id=\"T_2cfb14e6_f5dd_11e9_b089_8c859084aa4b\" ><thead>    <tr>        <th class=\"blank level0\" ></th>        <th class=\"col_heading level0 col0\" >Purchase Count</th>        <th class=\"col_heading level0 col1\" >Average Purchase Price</th>        <th class=\"col_heading level0 col2\" >Average Purchase Value</th>        <th class=\"col_heading level0 col3\" >Average Purchase Total per Person</th>    </tr>    <tr>        <th class=\"index_name level0\" >Gender</th>        <th class=\"blank\" ></th>        <th class=\"blank\" ></th>        <th class=\"blank\" ></th>        <th class=\"blank\" ></th>    </tr></thead><tbody>\n",
       "                <tr>\n",
       "                        <th id=\"T_2cfb14e6_f5dd_11e9_b089_8c859084aa4blevel0_row0\" class=\"row_heading level0 row0\" >Female</th>\n",
       "                        <td id=\"T_2cfb14e6_f5dd_11e9_b089_8c859084aa4brow0_col0\" class=\"data row0 col0\" >113</td>\n",
       "                        <td id=\"T_2cfb14e6_f5dd_11e9_b089_8c859084aa4brow0_col1\" class=\"data row0 col1\" >$3.20</td>\n",
       "                        <td id=\"T_2cfb14e6_f5dd_11e9_b089_8c859084aa4brow0_col2\" class=\"data row0 col2\" >$361.94</td>\n",
       "                        <td id=\"T_2cfb14e6_f5dd_11e9_b089_8c859084aa4brow0_col3\" class=\"data row0 col3\" >$3.20</td>\n",
       "            </tr>\n",
       "            <tr>\n",
       "                        <th id=\"T_2cfb14e6_f5dd_11e9_b089_8c859084aa4blevel0_row1\" class=\"row_heading level0 row1\" >Male</th>\n",
       "                        <td id=\"T_2cfb14e6_f5dd_11e9_b089_8c859084aa4brow1_col0\" class=\"data row1 col0\" >652</td>\n",
       "                        <td id=\"T_2cfb14e6_f5dd_11e9_b089_8c859084aa4brow1_col1\" class=\"data row1 col1\" >$3.02</td>\n",
       "                        <td id=\"T_2cfb14e6_f5dd_11e9_b089_8c859084aa4brow1_col2\" class=\"data row1 col2\" >$1,967.64</td>\n",
       "                        <td id=\"T_2cfb14e6_f5dd_11e9_b089_8c859084aa4brow1_col3\" class=\"data row1 col3\" >$3.02</td>\n",
       "            </tr>\n",
       "            <tr>\n",
       "                        <th id=\"T_2cfb14e6_f5dd_11e9_b089_8c859084aa4blevel0_row2\" class=\"row_heading level0 row2\" >Other / Non-Disclosed</th>\n",
       "                        <td id=\"T_2cfb14e6_f5dd_11e9_b089_8c859084aa4brow2_col0\" class=\"data row2 col0\" >15</td>\n",
       "                        <td id=\"T_2cfb14e6_f5dd_11e9_b089_8c859084aa4brow2_col1\" class=\"data row2 col1\" >$3.35</td>\n",
       "                        <td id=\"T_2cfb14e6_f5dd_11e9_b089_8c859084aa4brow2_col2\" class=\"data row2 col2\" >$50.19</td>\n",
       "                        <td id=\"T_2cfb14e6_f5dd_11e9_b089_8c859084aa4brow2_col3\" class=\"data row2 col3\" >$3.35</td>\n",
       "            </tr>\n",
       "    </tbody></table>"
      ],
      "text/plain": [
       "<pandas.io.formats.style.Styler at 0x11f031128>"
      ]
     },
     "execution_count": 5,
     "metadata": {},
     "output_type": "execute_result"
    }
   ],
   "source": [
    "##count total purchases by each gender\n",
    "gender_counts\n",
    "\n",
    "##Avg purchase price\n",
    "AvgPurchasePrice=gender_data[\"Price\"].mean()\n",
    "AvgPurchasePrice\n",
    "\n",
    "#Total Purchase Value\n",
    "TotalPurchaseValue=gender_data[\"Price\"].sum()\n",
    "TotalPurchaseValue\n",
    "\n",
    "#Average purchase total per person by Gender\n",
    "AvgPerPerson=TotalPurchaseValue/gender_counts\n",
    "AvgPerPerson\n",
    "\n",
    "#Create new df\n",
    "GenderDf = pd.DataFrame({\"Purchase Count\": gender_counts, \n",
    "                                    \"Average Purchase Price\": AvgPurchasePrice,\n",
    "                                    \"Average Purchase Value\":TotalPurchaseValue,\n",
    "                                    \"Average Purchase Total per Person\": AvgPerPerson})\n",
    "GenderDf\n",
    "\n",
    "#Format Currency values\n",
    "GenderDf=GenderDf.style.format({ \"Average Purchase Price\":\"${:,.2f}\",\n",
    "                      \"Average Purchase Value\":\"${:,.2f}\",\n",
    "                      \"Average Purchase Total per Person\":\"${:,.2f}\"})\n",
    "\n",
    "#Add \"Gender\" to table \n",
    "GenderDf.index.name=\"Gender\"\n",
    "\n",
    "GenderDf"
   ]
  },
  {
   "cell_type": "markdown",
   "metadata": {},
   "source": [
    "## Age Demographics"
   ]
  },
  {
   "cell_type": "markdown",
   "metadata": {},
   "source": [
    "* Establish bins for ages\n",
    "\n",
    "\n",
    "* Categorize the existing players using the age bins. Hint: use pd.cut()\n",
    "\n",
    "\n",
    "* Calculate the numbers and percentages by age group\n",
    "\n",
    "\n",
    "* Create a summary data frame to hold the results\n",
    "\n",
    "\n",
    "* Optional: round the percentage column to two decimal points\n",
    "\n",
    "\n",
    "* Display Age Demographics Table\n"
   ]
  },
  {
   "cell_type": "code",
   "execution_count": 6,
   "metadata": {},
   "outputs": [
    {
     "ename": "NameError",
     "evalue": "name 'totalCount' is not defined",
     "output_type": "error",
     "traceback": [
      "\u001b[0;31m---------------------------------------------------------------------------\u001b[0m",
      "\u001b[0;31mNameError\u001b[0m                                 Traceback (most recent call last)",
      "\u001b[0;32m<ipython-input-6-85842301a560>\u001b[0m in \u001b[0;36m<module>\u001b[0;34m\u001b[0m\n\u001b[1;32m     15\u001b[0m \u001b[0;34m\u001b[0m\u001b[0m\n\u001b[1;32m     16\u001b[0m \u001b[0;31m#Calculate % for age bins\u001b[0m\u001b[0;34m\u001b[0m\u001b[0;34m\u001b[0m\u001b[0;34m\u001b[0m\u001b[0m\n\u001b[0;32m---> 17\u001b[0;31m \u001b[0mpct_age\u001b[0m\u001b[0;34m=\u001b[0m\u001b[0;34m(\u001b[0m\u001b[0mtotalCount\u001b[0m\u001b[0;34m/\u001b[0m\u001b[0mplayerCount\u001b[0m\u001b[0;34m)\u001b[0m\u001b[0;34m*\u001b[0m\u001b[0;36m100\u001b[0m\u001b[0;34m\u001b[0m\u001b[0;34m\u001b[0m\u001b[0m\n\u001b[0m\u001b[1;32m     18\u001b[0m \u001b[0;34m\u001b[0m\u001b[0m\n\u001b[1;32m     19\u001b[0m \u001b[0;31m#Create new datagrame with all values\u001b[0m\u001b[0;34m\u001b[0m\u001b[0;34m\u001b[0m\u001b[0;34m\u001b[0m\u001b[0m\n",
      "\u001b[0;31mNameError\u001b[0m: name 'totalCount' is not defined"
     ]
    }
   ],
   "source": [
    "#Create bins for ages\n",
    "\n",
    "ageBins=[0,9.9,14.9,19.9,24.9,29.9,34.9,39.9,100]\n",
    "binNames=[\"<10\",\"10-14\",\"15-19\",\"20-24\",\"25-29\",\"30-34\",\"35-39\",\"40+\"]\n",
    "\n",
    "#Categorize exisitng players using agae bins\n",
    "purchase_data[\"Age Group\"]=pd.cut(purchase_data[\"Age\"],ageBins,labels=binNames)\n",
    "purchase_data\n",
    "\n",
    "#New data frame with Age Groups\n",
    "AgeGroup=purchase_data.groupby(\"Age Group\")\n",
    "\n",
    "#Count total player per age bin\n",
    "totalCountAge=AgeGroup[\"SN\"].nunique()\n",
    "\n",
    "#Calculate % for age bins\n",
    "pct_age=(totalCount/playerCount)*100\n",
    "\n",
    "#Create new datagrame with all values\n",
    "\n",
    "age_df=pd.DataFrame({\"Percentage of Players\":pct_age,\"Total Count\":totalCount})\n",
    "\n",
    "#Format df to remove index name and format percentage with 2 decmal places\n",
    "age_df.index.name=None\n",
    "\n",
    "age_df.style.format({\"Percentage of Players\":\"{:,.2f}\"})"
   ]
  },
  {
   "cell_type": "markdown",
   "metadata": {},
   "source": [
    "## Purchasing Analysis (Age)"
   ]
  },
  {
   "cell_type": "markdown",
   "metadata": {},
   "source": [
    "* Bin the purchase_data data frame by age\n",
    "\n",
    "\n",
    "* Run basic calculations to obtain purchase count, avg. purchase price, avg. purchase total per person etc. in the table below\n",
    "\n",
    "\n",
    "* Create a summary data frame to hold the results\n",
    "\n",
    "\n",
    "* Optional: give the displayed data cleaner formatting\n",
    "\n",
    "\n",
    "* Display the summary data frame"
   ]
  },
  {
   "cell_type": "code",
   "execution_count": 7,
   "metadata": {},
   "outputs": [
    {
     "data": {
      "text/html": [
       "<style  type=\"text/css\" >\n",
       "</style><table id=\"T_2d9e604c_f5dd_11e9_83d5_8c859084aa4b\" ><thead>    <tr>        <th class=\"blank level0\" ></th>        <th class=\"col_heading level0 col0\" >Purchase Count</th>        <th class=\"col_heading level0 col1\" >Average Purchase Price</th>        <th class=\"col_heading level0 col2\" >Total Purchase Value</th>        <th class=\"col_heading level0 col3\" >Average Purchase Total per Person</th>    </tr></thead><tbody>\n",
       "                <tr>\n",
       "                        <th id=\"T_2d9e604c_f5dd_11e9_83d5_8c859084aa4blevel0_row0\" class=\"row_heading level0 row0\" ><10</th>\n",
       "                        <td id=\"T_2d9e604c_f5dd_11e9_83d5_8c859084aa4brow0_col0\" class=\"data row0 col0\" >23</td>\n",
       "                        <td id=\"T_2d9e604c_f5dd_11e9_83d5_8c859084aa4brow0_col1\" class=\"data row0 col1\" >$3.35</td>\n",
       "                        <td id=\"T_2d9e604c_f5dd_11e9_83d5_8c859084aa4brow0_col2\" class=\"data row0 col2\" >$77.13</td>\n",
       "                        <td id=\"T_2d9e604c_f5dd_11e9_83d5_8c859084aa4brow0_col3\" class=\"data row0 col3\" >$4.54</td>\n",
       "            </tr>\n",
       "            <tr>\n",
       "                        <th id=\"T_2d9e604c_f5dd_11e9_83d5_8c859084aa4blevel0_row1\" class=\"row_heading level0 row1\" >10-14</th>\n",
       "                        <td id=\"T_2d9e604c_f5dd_11e9_83d5_8c859084aa4brow1_col0\" class=\"data row1 col0\" >28</td>\n",
       "                        <td id=\"T_2d9e604c_f5dd_11e9_83d5_8c859084aa4brow1_col1\" class=\"data row1 col1\" >$2.96</td>\n",
       "                        <td id=\"T_2d9e604c_f5dd_11e9_83d5_8c859084aa4brow1_col2\" class=\"data row1 col2\" >$82.78</td>\n",
       "                        <td id=\"T_2d9e604c_f5dd_11e9_83d5_8c859084aa4brow1_col3\" class=\"data row1 col3\" >$3.76</td>\n",
       "            </tr>\n",
       "            <tr>\n",
       "                        <th id=\"T_2d9e604c_f5dd_11e9_83d5_8c859084aa4blevel0_row2\" class=\"row_heading level0 row2\" >15-19</th>\n",
       "                        <td id=\"T_2d9e604c_f5dd_11e9_83d5_8c859084aa4brow2_col0\" class=\"data row2 col0\" >136</td>\n",
       "                        <td id=\"T_2d9e604c_f5dd_11e9_83d5_8c859084aa4brow2_col1\" class=\"data row2 col1\" >$3.04</td>\n",
       "                        <td id=\"T_2d9e604c_f5dd_11e9_83d5_8c859084aa4brow2_col2\" class=\"data row2 col2\" >$412.89</td>\n",
       "                        <td id=\"T_2d9e604c_f5dd_11e9_83d5_8c859084aa4brow2_col3\" class=\"data row2 col3\" >$3.86</td>\n",
       "            </tr>\n",
       "            <tr>\n",
       "                        <th id=\"T_2d9e604c_f5dd_11e9_83d5_8c859084aa4blevel0_row3\" class=\"row_heading level0 row3\" >20-24</th>\n",
       "                        <td id=\"T_2d9e604c_f5dd_11e9_83d5_8c859084aa4brow3_col0\" class=\"data row3 col0\" >365</td>\n",
       "                        <td id=\"T_2d9e604c_f5dd_11e9_83d5_8c859084aa4brow3_col1\" class=\"data row3 col1\" >$3.05</td>\n",
       "                        <td id=\"T_2d9e604c_f5dd_11e9_83d5_8c859084aa4brow3_col2\" class=\"data row3 col2\" >$1,114.06</td>\n",
       "                        <td id=\"T_2d9e604c_f5dd_11e9_83d5_8c859084aa4brow3_col3\" class=\"data row3 col3\" >$4.32</td>\n",
       "            </tr>\n",
       "            <tr>\n",
       "                        <th id=\"T_2d9e604c_f5dd_11e9_83d5_8c859084aa4blevel0_row4\" class=\"row_heading level0 row4\" >25-29</th>\n",
       "                        <td id=\"T_2d9e604c_f5dd_11e9_83d5_8c859084aa4brow4_col0\" class=\"data row4 col0\" >101</td>\n",
       "                        <td id=\"T_2d9e604c_f5dd_11e9_83d5_8c859084aa4brow4_col1\" class=\"data row4 col1\" >$2.90</td>\n",
       "                        <td id=\"T_2d9e604c_f5dd_11e9_83d5_8c859084aa4brow4_col2\" class=\"data row4 col2\" >$293.00</td>\n",
       "                        <td id=\"T_2d9e604c_f5dd_11e9_83d5_8c859084aa4brow4_col3\" class=\"data row4 col3\" >$3.81</td>\n",
       "            </tr>\n",
       "            <tr>\n",
       "                        <th id=\"T_2d9e604c_f5dd_11e9_83d5_8c859084aa4blevel0_row5\" class=\"row_heading level0 row5\" >30-34</th>\n",
       "                        <td id=\"T_2d9e604c_f5dd_11e9_83d5_8c859084aa4brow5_col0\" class=\"data row5 col0\" >73</td>\n",
       "                        <td id=\"T_2d9e604c_f5dd_11e9_83d5_8c859084aa4brow5_col1\" class=\"data row5 col1\" >$2.93</td>\n",
       "                        <td id=\"T_2d9e604c_f5dd_11e9_83d5_8c859084aa4brow5_col2\" class=\"data row5 col2\" >$214.00</td>\n",
       "                        <td id=\"T_2d9e604c_f5dd_11e9_83d5_8c859084aa4brow5_col3\" class=\"data row5 col3\" >$4.12</td>\n",
       "            </tr>\n",
       "            <tr>\n",
       "                        <th id=\"T_2d9e604c_f5dd_11e9_83d5_8c859084aa4blevel0_row6\" class=\"row_heading level0 row6\" >35-39</th>\n",
       "                        <td id=\"T_2d9e604c_f5dd_11e9_83d5_8c859084aa4brow6_col0\" class=\"data row6 col0\" >41</td>\n",
       "                        <td id=\"T_2d9e604c_f5dd_11e9_83d5_8c859084aa4brow6_col1\" class=\"data row6 col1\" >$3.60</td>\n",
       "                        <td id=\"T_2d9e604c_f5dd_11e9_83d5_8c859084aa4brow6_col2\" class=\"data row6 col2\" >$147.67</td>\n",
       "                        <td id=\"T_2d9e604c_f5dd_11e9_83d5_8c859084aa4brow6_col3\" class=\"data row6 col3\" >$4.76</td>\n",
       "            </tr>\n",
       "            <tr>\n",
       "                        <th id=\"T_2d9e604c_f5dd_11e9_83d5_8c859084aa4blevel0_row7\" class=\"row_heading level0 row7\" >40+</th>\n",
       "                        <td id=\"T_2d9e604c_f5dd_11e9_83d5_8c859084aa4brow7_col0\" class=\"data row7 col0\" >13</td>\n",
       "                        <td id=\"T_2d9e604c_f5dd_11e9_83d5_8c859084aa4brow7_col1\" class=\"data row7 col1\" >$2.94</td>\n",
       "                        <td id=\"T_2d9e604c_f5dd_11e9_83d5_8c859084aa4brow7_col2\" class=\"data row7 col2\" >$38.24</td>\n",
       "                        <td id=\"T_2d9e604c_f5dd_11e9_83d5_8c859084aa4brow7_col3\" class=\"data row7 col3\" >$3.19</td>\n",
       "            </tr>\n",
       "    </tbody></table>"
      ],
      "text/plain": [
       "<pandas.io.formats.style.Styler at 0x11f0316a0>"
      ]
     },
     "execution_count": 7,
     "metadata": {},
     "output_type": "execute_result"
    }
   ],
   "source": [
    "#Purchase count for age groups\n",
    "prchCountAgeGroup = AgeGroup[\"Purchase ID\"].count()\n",
    "\n",
    "# Avg purchase price for age group \n",
    "avgPrchPrice = AgeGroup[\"Price\"].mean()\n",
    "\n",
    "# Total purchase value for age group \n",
    "totalPurchValue = AgeGroup[\"Price\"].sum()\n",
    "\n",
    "# Average purchase/person in age group \n",
    "avgPurchPerPerson = totalPurchValue/totalCountAge\n",
    "\n",
    "# Create new dataframe with values\n",
    "ageDf = pd.DataFrame({\"Purchase Count\": prchCountAgeGroup,\n",
    "                                 \"Average Purchase Price\": avgPrchPrice,\n",
    "                                 \"Total Purchase Value\":totalPurchValue,\n",
    "                                 \"Average Purchase Total per Person\": avgPurchPerPerson})\n",
    "\n",
    "# Format to remove index name and to 2 decimal points + $ sign\n",
    "ageDf.index.name = None\n",
    "\n",
    "ageDf.style.format({\"Average Purchase Price\":\"${:,.2f}\",\n",
    "                    \"Total Purchase Value\":\"${:,.2f}\",\n",
    "                    \"Average Purchase Total per Person\":\"${:,.2f}\"})"
   ]
  },
  {
   "cell_type": "markdown",
   "metadata": {},
   "source": [
    "## Top Spenders"
   ]
  },
  {
   "cell_type": "markdown",
   "metadata": {},
   "source": [
    "* Run basic calculations to obtain the results in the table below\n",
    "\n",
    "\n",
    "* Create a summary data frame to hold the results\n",
    "\n",
    "\n",
    "* Sort the total purchase value column in descending order\n",
    "\n",
    "\n",
    "* Optional: give the displayed data cleaner formatting\n",
    "\n",
    "\n",
    "* Display a preview of the summary data frame\n",
    "\n"
   ]
  },
  {
   "cell_type": "code",
   "execution_count": 8,
   "metadata": {},
   "outputs": [
    {
     "data": {
      "text/html": [
       "<style  type=\"text/css\" >\n",
       "</style><table id=\"T_2df00064_f5dd_11e9_bb2e_8c859084aa4b\" ><thead>    <tr>        <th class=\"blank level0\" ></th>        <th class=\"col_heading level0 col0\" >Purchase Count</th>        <th class=\"col_heading level0 col1\" >Average Purchase Price</th>        <th class=\"col_heading level0 col2\" >Total Purchase Value</th>    </tr>    <tr>        <th class=\"index_name level0\" >SN</th>        <th class=\"blank\" ></th>        <th class=\"blank\" ></th>        <th class=\"blank\" ></th>    </tr></thead><tbody>\n",
       "                <tr>\n",
       "                        <th id=\"T_2df00064_f5dd_11e9_bb2e_8c859084aa4blevel0_row0\" class=\"row_heading level0 row0\" >Lisosia93</th>\n",
       "                        <td id=\"T_2df00064_f5dd_11e9_bb2e_8c859084aa4brow0_col0\" class=\"data row0 col0\" >5</td>\n",
       "                        <td id=\"T_2df00064_f5dd_11e9_bb2e_8c859084aa4brow0_col1\" class=\"data row0 col1\" >$3.79</td>\n",
       "                        <td id=\"T_2df00064_f5dd_11e9_bb2e_8c859084aa4brow0_col2\" class=\"data row0 col2\" >$18.96</td>\n",
       "            </tr>\n",
       "            <tr>\n",
       "                        <th id=\"T_2df00064_f5dd_11e9_bb2e_8c859084aa4blevel0_row1\" class=\"row_heading level0 row1\" >Idastidru52</th>\n",
       "                        <td id=\"T_2df00064_f5dd_11e9_bb2e_8c859084aa4brow1_col0\" class=\"data row1 col0\" >4</td>\n",
       "                        <td id=\"T_2df00064_f5dd_11e9_bb2e_8c859084aa4brow1_col1\" class=\"data row1 col1\" >$3.86</td>\n",
       "                        <td id=\"T_2df00064_f5dd_11e9_bb2e_8c859084aa4brow1_col2\" class=\"data row1 col2\" >$15.45</td>\n",
       "            </tr>\n",
       "            <tr>\n",
       "                        <th id=\"T_2df00064_f5dd_11e9_bb2e_8c859084aa4blevel0_row2\" class=\"row_heading level0 row2\" >Chamjask73</th>\n",
       "                        <td id=\"T_2df00064_f5dd_11e9_bb2e_8c859084aa4brow2_col0\" class=\"data row2 col0\" >3</td>\n",
       "                        <td id=\"T_2df00064_f5dd_11e9_bb2e_8c859084aa4brow2_col1\" class=\"data row2 col1\" >$4.61</td>\n",
       "                        <td id=\"T_2df00064_f5dd_11e9_bb2e_8c859084aa4brow2_col2\" class=\"data row2 col2\" >$13.83</td>\n",
       "            </tr>\n",
       "            <tr>\n",
       "                        <th id=\"T_2df00064_f5dd_11e9_bb2e_8c859084aa4blevel0_row3\" class=\"row_heading level0 row3\" >Iral74</th>\n",
       "                        <td id=\"T_2df00064_f5dd_11e9_bb2e_8c859084aa4brow3_col0\" class=\"data row3 col0\" >4</td>\n",
       "                        <td id=\"T_2df00064_f5dd_11e9_bb2e_8c859084aa4brow3_col1\" class=\"data row3 col1\" >$3.40</td>\n",
       "                        <td id=\"T_2df00064_f5dd_11e9_bb2e_8c859084aa4brow3_col2\" class=\"data row3 col2\" >$13.62</td>\n",
       "            </tr>\n",
       "            <tr>\n",
       "                        <th id=\"T_2df00064_f5dd_11e9_bb2e_8c859084aa4blevel0_row4\" class=\"row_heading level0 row4\" >Iskadarya95</th>\n",
       "                        <td id=\"T_2df00064_f5dd_11e9_bb2e_8c859084aa4brow4_col0\" class=\"data row4 col0\" >3</td>\n",
       "                        <td id=\"T_2df00064_f5dd_11e9_bb2e_8c859084aa4brow4_col1\" class=\"data row4 col1\" >$4.37</td>\n",
       "                        <td id=\"T_2df00064_f5dd_11e9_bb2e_8c859084aa4brow4_col2\" class=\"data row4 col2\" >$13.10</td>\n",
       "            </tr>\n",
       "    </tbody></table>"
      ],
      "text/plain": [
       "<pandas.io.formats.style.Styler at 0x11f03eeb8>"
      ]
     },
     "execution_count": 8,
     "metadata": {},
     "output_type": "execute_result"
    }
   ],
   "source": [
    "#Top Spenders\n",
    "#Group purchase data by SN\n",
    "spenderData=purchase_data.groupby(\"SN\")\n",
    "spenderData\n",
    "#Count total purchases by user ids/SNs\n",
    "purchaseCountUser=spenderData[\"Purchase ID\"].count()\n",
    "\n",
    "#Calculate avg purchase per user\n",
    "avgPriceUser=spenderData[\"Price\"].mean()\n",
    "\n",
    "#Total Purchase Balue\n",
    "purchaseTotalValue=spenderData[\"Price\"].sum()\n",
    "\n",
    "#create new dataframe to store values\n",
    "topSpenders = pd.DataFrame({\"Purchase Count\": purchaseCountUser,\n",
    "                             \"Average Purchase Price\": avgPriceUser,\n",
    "                             \"Total Purchase Value\":purchaseTotalValue})\n",
    "\n",
    "topSpenders\n",
    "#Descending order to get top 5 spenders\n",
    "sortSpenders = topSpenders.sort_values([\"Total Purchase Value\"], ascending=False).head()\n",
    "sortSpenders\n",
    "# Format currency style ( $, and 2 decimal points)\n",
    "sortSpenders.style.format({\"Average Purchase Total\":\"${:,.2f}\",\n",
    "                            \"Average Purchase Price\":\"${:,.2f}\", \n",
    "                            \"Total Purchase Value\":\"${:,.2f}\"})"
   ]
  },
  {
   "cell_type": "markdown",
   "metadata": {},
   "source": [
    "## Most Popular Items"
   ]
  },
  {
   "cell_type": "markdown",
   "metadata": {},
   "source": [
    "* Retrieve the Item ID, Item Name, and Item Price columns\n",
    "\n",
    "\n",
    "* Group by Item ID and Item Name. Perform calculations to obtain purchase count, item price, and total purchase value\n",
    "\n",
    "\n",
    "* Create a summary data frame to hold the results\n",
    "\n",
    "\n",
    "* Sort the purchase count column in descending order\n",
    "\n",
    "\n",
    "* Optional: give the displayed data cleaner formatting\n",
    "\n",
    "\n",
    "* Display a preview of the summary data frame\n",
    "\n"
   ]
  },
  {
   "cell_type": "code",
   "execution_count": 9,
   "metadata": {},
   "outputs": [
    {
     "data": {
      "text/html": [
       "<div>\n",
       "<style scoped>\n",
       "    .dataframe tbody tr th:only-of-type {\n",
       "        vertical-align: middle;\n",
       "    }\n",
       "\n",
       "    .dataframe tbody tr th {\n",
       "        vertical-align: top;\n",
       "    }\n",
       "\n",
       "    .dataframe thead th {\n",
       "        text-align: right;\n",
       "    }\n",
       "</style>\n",
       "<table border=\"1\" class=\"dataframe\">\n",
       "  <thead>\n",
       "    <tr style=\"text-align: right;\">\n",
       "      <th></th>\n",
       "      <th></th>\n",
       "      <th>Purchase Count</th>\n",
       "      <th>Item Price</th>\n",
       "      <th>Total Purchase Value</th>\n",
       "    </tr>\n",
       "    <tr>\n",
       "      <th>Item ID</th>\n",
       "      <th>Item Name</th>\n",
       "      <th></th>\n",
       "      <th></th>\n",
       "      <th></th>\n",
       "    </tr>\n",
       "  </thead>\n",
       "  <tbody>\n",
       "    <tr>\n",
       "      <td>0</td>\n",
       "      <td>Splinter</td>\n",
       "      <td>4</td>\n",
       "      <td>1.28</td>\n",
       "      <td>5.12</td>\n",
       "    </tr>\n",
       "    <tr>\n",
       "      <td>1</td>\n",
       "      <td>Crucifer</td>\n",
       "      <td>3</td>\n",
       "      <td>3.26</td>\n",
       "      <td>9.78</td>\n",
       "    </tr>\n",
       "    <tr>\n",
       "      <td>2</td>\n",
       "      <td>Verdict</td>\n",
       "      <td>6</td>\n",
       "      <td>2.48</td>\n",
       "      <td>14.88</td>\n",
       "    </tr>\n",
       "    <tr>\n",
       "      <td>3</td>\n",
       "      <td>Phantomlight</td>\n",
       "      <td>6</td>\n",
       "      <td>2.49</td>\n",
       "      <td>14.94</td>\n",
       "    </tr>\n",
       "    <tr>\n",
       "      <td>4</td>\n",
       "      <td>Bloodlord's Fetish</td>\n",
       "      <td>5</td>\n",
       "      <td>1.70</td>\n",
       "      <td>8.50</td>\n",
       "    </tr>\n",
       "    <tr>\n",
       "      <td>...</td>\n",
       "      <td>...</td>\n",
       "      <td>...</td>\n",
       "      <td>...</td>\n",
       "      <td>...</td>\n",
       "    </tr>\n",
       "    <tr>\n",
       "      <td>179</td>\n",
       "      <td>Wolf, Promise of the Moonwalker</td>\n",
       "      <td>6</td>\n",
       "      <td>4.48</td>\n",
       "      <td>26.88</td>\n",
       "    </tr>\n",
       "    <tr>\n",
       "      <td>180</td>\n",
       "      <td>Stormcaller</td>\n",
       "      <td>1</td>\n",
       "      <td>3.36</td>\n",
       "      <td>3.36</td>\n",
       "    </tr>\n",
       "    <tr>\n",
       "      <td>181</td>\n",
       "      <td>Reaper's Toll</td>\n",
       "      <td>5</td>\n",
       "      <td>1.66</td>\n",
       "      <td>8.30</td>\n",
       "    </tr>\n",
       "    <tr>\n",
       "      <td>182</td>\n",
       "      <td>Toothpick</td>\n",
       "      <td>3</td>\n",
       "      <td>4.03</td>\n",
       "      <td>12.09</td>\n",
       "    </tr>\n",
       "    <tr>\n",
       "      <td>183</td>\n",
       "      <td>Dragon's Greatsword</td>\n",
       "      <td>3</td>\n",
       "      <td>1.09</td>\n",
       "      <td>3.27</td>\n",
       "    </tr>\n",
       "  </tbody>\n",
       "</table>\n",
       "<p>183 rows × 3 columns</p>\n",
       "</div>"
      ],
      "text/plain": [
       "                                         Purchase Count  Item Price  \\\n",
       "Item ID Item Name                                                     \n",
       "0       Splinter                                      4        1.28   \n",
       "1       Crucifer                                      3        3.26   \n",
       "2       Verdict                                       6        2.48   \n",
       "3       Phantomlight                                  6        2.49   \n",
       "4       Bloodlord's Fetish                            5        1.70   \n",
       "...                                                 ...         ...   \n",
       "179     Wolf, Promise of the Moonwalker               6        4.48   \n",
       "180     Stormcaller                                   1        3.36   \n",
       "181     Reaper's Toll                                 5        1.66   \n",
       "182     Toothpick                                     3        4.03   \n",
       "183     Dragon's Greatsword                           3        1.09   \n",
       "\n",
       "                                         Total Purchase Value  \n",
       "Item ID Item Name                                              \n",
       "0       Splinter                                         5.12  \n",
       "1       Crucifer                                         9.78  \n",
       "2       Verdict                                         14.88  \n",
       "3       Phantomlight                                    14.94  \n",
       "4       Bloodlord's Fetish                               8.50  \n",
       "...                                                       ...  \n",
       "179     Wolf, Promise of the Moonwalker                 26.88  \n",
       "180     Stormcaller                                      3.36  \n",
       "181     Reaper's Toll                                    8.30  \n",
       "182     Toothpick                                       12.09  \n",
       "183     Dragon's Greatsword                              3.27  \n",
       "\n",
       "[183 rows x 3 columns]"
      ]
     },
     "execution_count": 9,
     "metadata": {},
     "output_type": "execute_result"
    }
   ],
   "source": [
    "# New Data Frame with item related info\n",
    "itemData=purchase_data[['Item ID','Item Name',\"Price\"]]\n",
    "\n",
    "#group by item id and name\n",
    "itemDf=itemData.groupby(['Item ID','Item Name'])\n",
    "\n",
    "#count items purchased\n",
    "purchaseCount=itemDf[\"Price\"].count()\n",
    "\n",
    "#calculate purchase value per item\n",
    "purchaseVal=(itemDf[\"Price\"].sum())\n",
    "\n",
    "#Item Price\n",
    "\n",
    "itemPrice=purchaseVal/purchaseCount\n",
    "\n",
    "#create new dataframe with above values\n",
    "\n",
    "mostPopularItems = pd.DataFrame({\"Purchase Count\": purchaseCount, \n",
    "                                   \"Item Price\": itemPrice,\n",
    "                                   \"Total Purchase Value\":purchaseVal})\n",
    "\n",
    "mostPopularItems"
   ]
  },
  {
   "cell_type": "markdown",
   "metadata": {},
   "source": [
    "## Most Profitable Items"
   ]
  },
  {
   "cell_type": "markdown",
   "metadata": {},
   "source": [
    "* Sort the above table by total purchase value in descending order\n",
    "\n",
    "\n",
    "* Optional: give the displayed data cleaner formatting\n",
    "\n",
    "\n",
    "* Display a preview of the data frame\n",
    "\n"
   ]
  },
  {
   "cell_type": "code",
   "execution_count": 10,
   "metadata": {
    "scrolled": true
   },
   "outputs": [
    {
     "data": {
      "text/html": [
       "<style  type=\"text/css\" >\n",
       "</style><table id=\"T_2e9ac242_f5dd_11e9_bb37_8c859084aa4b\" ><thead>    <tr>        <th class=\"blank\" ></th>        <th class=\"blank level0\" ></th>        <th class=\"col_heading level0 col0\" >Purchase Count</th>        <th class=\"col_heading level0 col1\" >Item Price</th>        <th class=\"col_heading level0 col2\" >Total Purchase Value</th>    </tr>    <tr>        <th class=\"index_name level0\" >Item ID</th>        <th class=\"index_name level1\" >Item Name</th>        <th class=\"blank\" ></th>        <th class=\"blank\" ></th>        <th class=\"blank\" ></th>    </tr></thead><tbody>\n",
       "                <tr>\n",
       "                        <th id=\"T_2e9ac242_f5dd_11e9_bb37_8c859084aa4blevel0_row0\" class=\"row_heading level0 row0\" >178</th>\n",
       "                        <th id=\"T_2e9ac242_f5dd_11e9_bb37_8c859084aa4blevel1_row0\" class=\"row_heading level1 row0\" >Oathbreaker, Last Hope of the Breaking Storm</th>\n",
       "                        <td id=\"T_2e9ac242_f5dd_11e9_bb37_8c859084aa4brow0_col0\" class=\"data row0 col0\" >12</td>\n",
       "                        <td id=\"T_2e9ac242_f5dd_11e9_bb37_8c859084aa4brow0_col1\" class=\"data row0 col1\" >$4.23</td>\n",
       "                        <td id=\"T_2e9ac242_f5dd_11e9_bb37_8c859084aa4brow0_col2\" class=\"data row0 col2\" >$50.76</td>\n",
       "            </tr>\n",
       "            <tr>\n",
       "                        <th id=\"T_2e9ac242_f5dd_11e9_bb37_8c859084aa4blevel0_row1\" class=\"row_heading level0 row1\" >145</th>\n",
       "                        <th id=\"T_2e9ac242_f5dd_11e9_bb37_8c859084aa4blevel1_row1\" class=\"row_heading level1 row1\" >Fiery Glass Crusader</th>\n",
       "                        <td id=\"T_2e9ac242_f5dd_11e9_bb37_8c859084aa4brow1_col0\" class=\"data row1 col0\" >9</td>\n",
       "                        <td id=\"T_2e9ac242_f5dd_11e9_bb37_8c859084aa4brow1_col1\" class=\"data row1 col1\" >$4.58</td>\n",
       "                        <td id=\"T_2e9ac242_f5dd_11e9_bb37_8c859084aa4brow1_col2\" class=\"data row1 col2\" >$41.22</td>\n",
       "            </tr>\n",
       "            <tr>\n",
       "                        <th id=\"T_2e9ac242_f5dd_11e9_bb37_8c859084aa4blevel0_row2\" class=\"row_heading level0 row2\" >108</th>\n",
       "                        <th id=\"T_2e9ac242_f5dd_11e9_bb37_8c859084aa4blevel1_row2\" class=\"row_heading level1 row2\" >Extraction, Quickblade Of Trembling Hands</th>\n",
       "                        <td id=\"T_2e9ac242_f5dd_11e9_bb37_8c859084aa4brow2_col0\" class=\"data row2 col0\" >9</td>\n",
       "                        <td id=\"T_2e9ac242_f5dd_11e9_bb37_8c859084aa4brow2_col1\" class=\"data row2 col1\" >$3.53</td>\n",
       "                        <td id=\"T_2e9ac242_f5dd_11e9_bb37_8c859084aa4brow2_col2\" class=\"data row2 col2\" >$31.77</td>\n",
       "            </tr>\n",
       "            <tr>\n",
       "                        <th id=\"T_2e9ac242_f5dd_11e9_bb37_8c859084aa4blevel0_row3\" class=\"row_heading level0 row3\" >82</th>\n",
       "                        <th id=\"T_2e9ac242_f5dd_11e9_bb37_8c859084aa4blevel1_row3\" class=\"row_heading level1 row3\" >Nirvana</th>\n",
       "                        <td id=\"T_2e9ac242_f5dd_11e9_bb37_8c859084aa4brow3_col0\" class=\"data row3 col0\" >9</td>\n",
       "                        <td id=\"T_2e9ac242_f5dd_11e9_bb37_8c859084aa4brow3_col1\" class=\"data row3 col1\" >$4.90</td>\n",
       "                        <td id=\"T_2e9ac242_f5dd_11e9_bb37_8c859084aa4brow3_col2\" class=\"data row3 col2\" >$44.10</td>\n",
       "            </tr>\n",
       "            <tr>\n",
       "                        <th id=\"T_2e9ac242_f5dd_11e9_bb37_8c859084aa4blevel0_row4\" class=\"row_heading level0 row4\" >19</th>\n",
       "                        <th id=\"T_2e9ac242_f5dd_11e9_bb37_8c859084aa4blevel1_row4\" class=\"row_heading level1 row4\" >Pursuit, Cudgel of Necromancy</th>\n",
       "                        <td id=\"T_2e9ac242_f5dd_11e9_bb37_8c859084aa4brow4_col0\" class=\"data row4 col0\" >8</td>\n",
       "                        <td id=\"T_2e9ac242_f5dd_11e9_bb37_8c859084aa4brow4_col1\" class=\"data row4 col1\" >$1.02</td>\n",
       "                        <td id=\"T_2e9ac242_f5dd_11e9_bb37_8c859084aa4brow4_col2\" class=\"data row4 col2\" >$8.16</td>\n",
       "            </tr>\n",
       "    </tbody></table>"
      ],
      "text/plain": [
       "<pandas.io.formats.style.Styler at 0x11e757e48>"
      ]
     },
     "execution_count": 10,
     "metadata": {},
     "output_type": "execute_result"
    }
   ],
   "source": [
    "#sort in descending value to obtain top 5 popular items\n",
    "\n",
    "popularSortDesc = mostPopularItems.sort_values([\"Purchase Count\"], ascending=False).head()\n",
    "\n",
    "#Format currency values( $, 2 decimal points)\n",
    "popularSortDesc.style.format({\"Item Price\":\"${:,.2f}\",\n",
    "                             \"Total Purchase Value\":\"${:,.2f}\"})"
   ]
  },
  {
   "cell_type": "code",
   "execution_count": null,
   "metadata": {},
   "outputs": [],
   "source": []
  },
  {
   "cell_type": "code",
   "execution_count": null,
   "metadata": {},
   "outputs": [],
   "source": []
  },
  {
   "cell_type": "code",
   "execution_count": null,
   "metadata": {},
   "outputs": [],
   "source": []
  }
 ],
 "metadata": {
  "anaconda-cloud": {},
  "kernel_info": {
   "name": "python3"
  },
  "kernelspec": {
   "display_name": "Python 3",
   "language": "python",
   "name": "python3"
  },
  "language_info": {
   "codemirror_mode": {
    "name": "ipython",
    "version": 3
   },
   "file_extension": ".py",
   "mimetype": "text/x-python",
   "name": "python",
   "nbconvert_exporter": "python",
   "pygments_lexer": "ipython3",
   "version": "3.6.9"
  },
  "latex_envs": {
   "LaTeX_envs_menu_present": true,
   "autoclose": false,
   "autocomplete": true,
   "bibliofile": "biblio.bib",
   "cite_by": "apalike",
   "current_citInitial": 1,
   "eqLabelWithNumbers": true,
   "eqNumInitial": 1,
   "hotkeys": {
    "equation": "Ctrl-E",
    "itemize": "Ctrl-I"
   },
   "labels_anchors": false,
   "latex_user_defs": false,
   "report_style_numbering": false,
   "user_envs_cfg": false
  },
  "nteract": {
   "version": "0.2.0"
  }
 },
 "nbformat": 4,
 "nbformat_minor": 2
}
